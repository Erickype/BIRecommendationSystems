{
 "cells": [
  {
   "cell_type": "code",
   "execution_count": 111,
   "metadata": {},
   "outputs": [],
   "source": [
    "import numpy as np\n",
    "import pandas as pd\n",
    "import nltk\n",
    "import math\n",
    "from nltk.corpus import stopwords\n",
    "\n",
    "documents = np.array([\n",
    "    [\"El calzado en el ecuador se comercializa por temporada\"],\n",
    "    [\"La temporada de calzado de la costa es diferente a la temporada de calzado de la sierra\"],\n",
    "    [\"El calzado en ecuador es bueno\"]\n",
    "])\n"
   ]
  },
  {
   "cell_type": "code",
   "execution_count": 112,
   "metadata": {},
   "outputs": [],
   "source": [
    "def calculatePreprocessedDocuments(documents):\n",
    "    nltk.download('stopwords')\n",
    "    # Define a list of stopwords in Spanish\n",
    "    stop_words = set(stopwords.words('spanish'))\n",
    "\n",
    "    # Preprocess the documents\n",
    "    preprocessed_documents = []\n",
    "    for doc in documents:\n",
    "        # Tokenize the sentence and remove stopwords\n",
    "        tokens = doc[0].split()\n",
    "        filtered_tokens = [word for word in tokens if word.lower() not in stop_words]\n",
    "        # Join the remaining words to reconstruct the preprocessed sentence\n",
    "        preprocessed_sentence = ' '.join(filtered_tokens)\n",
    "        preprocessed_documents.append(preprocessed_sentence)\n",
    "    preprocessed_documents = np.array(preprocessed_documents)\n",
    "    return preprocessed_documents"
   ]
  },
  {
   "cell_type": "code",
   "execution_count": 113,
   "metadata": {},
   "outputs": [],
   "source": [
    "def calculateUniqueWords(preprocessed_documents):\n",
    "    unique_words = []\n",
    "    for doc in preprocessed_documents:\n",
    "        tokens = doc.split()\n",
    "        for token in tokens:\n",
    "            has_repeat = False\n",
    "            for unique in unique_words:\n",
    "                if unique == token:\n",
    "                    has_repeat = True\n",
    "            if has_repeat == False:\n",
    "                unique_words.append(token)\n",
    "\n",
    "    unique_words = np.array(unique_words)\n",
    "    return unique_words"
   ]
  },
  {
   "cell_type": "code",
   "execution_count": 114,
   "metadata": {},
   "outputs": [],
   "source": [
    "def countWordsInString(word, document):\n",
    "    words = document.split()\n",
    "    word_count = words.count(word)    \n",
    "    return word_count"
   ]
  },
  {
   "cell_type": "code",
   "execution_count": 115,
   "metadata": {},
   "outputs": [],
   "source": [
    "def calculateTk(unique_words,  preprocessed_documents):\n",
    "    n = unique_words.shape[0]\n",
    "    m = preprocessed_documents.shape[0]\n",
    "    tk = np.zeros((n, m))\n",
    "\n",
    "    for i in range(len(unique_words)):\n",
    "        sumnk = 0\n",
    "        unique_word = unique_words[i]\n",
    "        for j in range(len(preprocessed_documents)):\n",
    "            document = preprocessed_documents[j]\n",
    "            document_contains_words = countWordsInString(unique_word, document)\n",
    "            tk[i][j] = document_contains_words\n",
    "            sumnk += document_contains_words\n",
    "    return tk  "
   ]
  },
  {
   "cell_type": "code",
   "execution_count": 116,
   "metadata": {},
   "outputs": [],
   "source": [
    "def calculateTkMaxFrecuency(tk):\n",
    "    maxValues = np.zeros(tk.shape[1])\n",
    "    for i in range(tk.shape[1]):\n",
    "        max = 0\n",
    "        for j in range(tk.shape[0]):\n",
    "            value = tk[j][i]\n",
    "            if(value > max):\n",
    "                max = value\n",
    "        maxValues[i] = max\n",
    "    return maxValues"
   ]
  },
  {
   "cell_type": "code",
   "execution_count": 117,
   "metadata": {},
   "outputs": [],
   "source": [
    "def calculateTf(tk):\n",
    "    tf = np.zeros_like(tk, dtype=np.float64)\n",
    "    tkMaxFrecuency = calculateTkMaxFrecuency(tk)\n",
    "    for i in range(tk.shape[0]):\n",
    "        for j in range(tk.shape[1]):\n",
    "            tf[i][j] = tk[i][j] / tkMaxFrecuency[j]\n",
    "    return tf\n",
    "    "
   ]
  },
  {
   "cell_type": "code",
   "execution_count": 135,
   "metadata": {},
   "outputs": [],
   "source": [
    "def calculateIDF(tk):\n",
    "    idf = np.zeros(tk.shape[0], dtype=np.float64)\n",
    "    N = tk.shape[1]\n",
    "    for i in range(tk.shape[0]):\n",
    "        sum = 0\n",
    "        for j in range(tk.shape[1]):\n",
    "            sum += tk[i][j]\n",
    "        idf[i] = math.log(N/sum, 10)\n",
    "    return idf\n"
   ]
  },
  {
   "cell_type": "code",
   "execution_count": 136,
   "metadata": {},
   "outputs": [
    {
     "name": "stdout",
     "output_type": "stream",
     "text": [
      "[-0.12493874  0.17609126  0.47712125  0.          0.47712125  0.47712125\n",
      "  0.47712125  0.47712125]\n"
     ]
    },
    {
     "name": "stderr",
     "output_type": "stream",
     "text": [
      "[nltk_data] Downloading package stopwords to\n",
      "[nltk_data]     C:\\Users\\erick\\AppData\\Roaming\\nltk_data...\n",
      "[nltk_data]   Package stopwords is already up-to-date!\n"
     ]
    }
   ],
   "source": [
    "preprocessed_documents = calculatePreprocessedDocuments(documents)\n",
    "unique_words = calculateUniqueWords(preprocessed_documents)\n",
    "tk = calculateTk(unique_words, preprocessed_documents)\n",
    "idf = calculateIDF(tk)\n",
    "tf = calculateTf(tk)\n",
    "print(idf)"
   ]
  }
 ],
 "metadata": {
  "kernelspec": {
   "display_name": "Python 3",
   "language": "python",
   "name": "python3"
  },
  "language_info": {
   "codemirror_mode": {
    "name": "ipython",
    "version": 3
   },
   "file_extension": ".py",
   "mimetype": "text/x-python",
   "name": "python",
   "nbconvert_exporter": "python",
   "pygments_lexer": "ipython3",
   "version": "3.11.3"
  }
 },
 "nbformat": 4,
 "nbformat_minor": 2
}
