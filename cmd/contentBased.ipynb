{
 "cells": [
  {
   "cell_type": "code",
   "execution_count": 169,
   "metadata": {},
   "outputs": [],
   "source": [
    "import numpy as np\n",
    "#import nltk\n",
    "import math\n",
    "from nltk.corpus import stopwords\n",
    "\n",
    "documents = np.array([\n",
    "    [\"El calzado en el ecuador se comercializa por temporada\"],\n",
    "    [\"La temporada de calzado de la costa es diferente a la temporada de calzado de la sierra\"],\n",
    "    [\"El calzado en ecuador es bueno\"]\n",
    "])\n"
   ]
  },
  {
   "cell_type": "code",
   "execution_count": 170,
   "metadata": {},
   "outputs": [],
   "source": [
    "def calculatePreprocessedDocuments(documents):\n",
    "    #nltk.download('stopwords')\n",
    "    # Define a list of stopwords in Spanish\n",
    "    stop_words = set(stopwords.words('spanish'))\n",
    "\n",
    "    # Preprocess the documents\n",
    "    preprocessed_documents = []\n",
    "    for doc in documents:\n",
    "        # Tokenize the sentence and remove stopwords\n",
    "        tokens = doc[0].split()\n",
    "        filtered_tokens = [word for word in tokens if word.lower() not in stop_words]\n",
    "        # Join the remaining words to reconstruct the preprocessed sentence\n",
    "        preprocessed_sentence = ' '.join(filtered_tokens)\n",
    "        preprocessed_documents.append(preprocessed_sentence)\n",
    "    preprocessed_documents = np.array(preprocessed_documents)\n",
    "    return preprocessed_documents"
   ]
  },
  {
   "cell_type": "code",
   "execution_count": 171,
   "metadata": {},
   "outputs": [],
   "source": [
    "def calculateUniqueWords(preprocessed_documents):\n",
    "    unique_words = []\n",
    "    for doc in preprocessed_documents:\n",
    "        tokens = doc.split()\n",
    "        for token in tokens:\n",
    "            has_repeat = False\n",
    "            for unique in unique_words:\n",
    "                if unique == token:\n",
    "                    has_repeat = True\n",
    "            if has_repeat == False:\n",
    "                unique_words.append(token)\n",
    "\n",
    "    unique_words = np.array(unique_words)\n",
    "    return unique_words"
   ]
  },
  {
   "cell_type": "code",
   "execution_count": 172,
   "metadata": {},
   "outputs": [],
   "source": [
    "def countWordsInString(word, document):\n",
    "    words = document.split()\n",
    "    word_count = words.count(word)    \n",
    "    return word_count"
   ]
  },
  {
   "cell_type": "code",
   "execution_count": 173,
   "metadata": {},
   "outputs": [],
   "source": [
    "def calculateTk(unique_words,  preprocessed_documents):\n",
    "    n = unique_words.shape[0]\n",
    "    m = preprocessed_documents.shape[0]\n",
    "    tk = np.zeros((n, m))\n",
    "\n",
    "    for i in range(len(unique_words)):\n",
    "        sumnk = 0\n",
    "        unique_word = unique_words[i]\n",
    "        for j in range(len(preprocessed_documents)):\n",
    "            document = preprocessed_documents[j]\n",
    "            document_contains_words = countWordsInString(unique_word, document)\n",
    "            tk[i][j] = document_contains_words\n",
    "            sumnk += document_contains_words\n",
    "    return tk  "
   ]
  },
  {
   "cell_type": "code",
   "execution_count": 174,
   "metadata": {},
   "outputs": [],
   "source": [
    "def calculateTkMaxFrecuency(tk):\n",
    "    maxValues = np.zeros(tk.shape[1])\n",
    "    for i in range(tk.shape[1]):\n",
    "        max = 0\n",
    "        for j in range(tk.shape[0]):\n",
    "            value = tk[j][i]\n",
    "            if(value > max):\n",
    "                max = value\n",
    "        maxValues[i] = max\n",
    "    return maxValues"
   ]
  },
  {
   "cell_type": "code",
   "execution_count": 175,
   "metadata": {},
   "outputs": [],
   "source": [
    "def calculateTf(tk):\n",
    "    tf = np.zeros_like(tk, dtype=np.float64)\n",
    "    tkMaxFrecuency = calculateTkMaxFrecuency(tk)\n",
    "    for i in range(tk.shape[0]):\n",
    "        for j in range(tk.shape[1]):\n",
    "            tf[i][j] = tk[i][j] / tkMaxFrecuency[j]\n",
    "    return tf\n",
    "    "
   ]
  },
  {
   "cell_type": "code",
   "execution_count": 176,
   "metadata": {},
   "outputs": [],
   "source": [
    "def calculateIDF(tk):\n",
    "    idf = np.zeros(tk.shape[0], dtype=np.float64)\n",
    "    N = tk.shape[1]\n",
    "    for i in range(tk.shape[0]):\n",
    "        sum = 0\n",
    "        for j in range(tk.shape[1]):\n",
    "            sum += tk[i][j]\n",
    "        idf[i] = math.log(N/sum, 10)\n",
    "    return idf\n"
   ]
  },
  {
   "cell_type": "code",
   "execution_count": 177,
   "metadata": {},
   "outputs": [],
   "source": [
    "def calculateTf_IDF(tf, idf):\n",
    "    similitudeMatrix = np.zeros_like(tf, dtype=np.float64)\n",
    "    for i in range(tf.shape[0]):\n",
    "        for j in range(tf.shape[1]):\n",
    "            similitudeMatrix[i][j] = tf[i][j] * idf[i]\n",
    "    return similitudeMatrix"
   ]
  },
  {
   "cell_type": "code",
   "execution_count": 180,
   "metadata": {},
   "outputs": [],
   "source": [
    "def normalizeTF_IDF(tf_idf):\n",
    "    normalized_tf_idf = np.zeros_like(tf_idf, dtype=np.float64)\n",
    "    denominador = np.zeros(tf_idf.shape[1], dtype=np.float64)\n",
    "    for i in range(tf_idf.shape[1]):\n",
    "        sum = 0\n",
    "        for j in range(tf_idf.shape[0]):\n",
    "            sum += math.pow(tf_idf[j][i],2)\n",
    "        denominador[i] = math.sqrt(sum)\n",
    "    for i in range(tf_idf.shape[0]):\n",
    "        for j in range(tf_idf.shape[1]):\n",
    "            normalized_tf_idf[i][j] = tf_idf[i][j] / denominador[j]\n",
    "    return normalized_tf_idf\n",
    "    "
   ]
  },
  {
   "cell_type": "code",
   "execution_count": 181,
   "metadata": {},
   "outputs": [
    {
     "name": "stdout",
     "output_type": "stream",
     "text": [
      "[[-0.23856893 -0.28942786 -0.23856893]\n",
      " [ 0.33624402  0.          0.33624402]\n",
      " [ 0.91105698  0.          0.        ]\n",
      " [ 0.          0.          0.        ]\n",
      " [ 0.          0.55263958  0.        ]\n",
      " [ 0.          0.55263958  0.        ]\n",
      " [ 0.          0.55263958  0.        ]\n",
      " [ 0.          0.          0.91105698]]\n"
     ]
    }
   ],
   "source": [
    "preprocessed_documents = calculatePreprocessedDocuments(documents)\n",
    "unique_words = calculateUniqueWords(preprocessed_documents)\n",
    "tk = calculateTk(unique_words, preprocessed_documents)\n",
    "idf = calculateIDF(tk)\n",
    "tf = calculateTf(tk)\n",
    "tf_idf = calculateTf_IDF(tf, idf)\n",
    "normalized_tf_idf = normalizeTF_IDF(tf_idf)\n",
    "print(normalized_tf_idf)"
   ]
  },
  {
   "cell_type": "code",
   "execution_count": 182,
   "metadata": {},
   "outputs": [],
   "source": [
    "def cosine_similarity(ratings):\n",
    "    # Calculate the similarity between items using cosine similarity\n",
    "    item_similarity = np.dot(ratings.T, ratings)  # Transpose the matrix and compute dot product\n",
    "\n",
    "    # Normalize the item similarity\n",
    "    item_norms = np.linalg.norm(ratings, axis=0)\n",
    "    item_similarity = item_similarity/(item_norms[:,np.newaxis]*item_norms)    \n",
    "    return item_similarity"
   ]
  },
  {
   "cell_type": "code",
   "execution_count": 183,
   "metadata": {},
   "outputs": [
    {
     "name": "stdout",
     "output_type": "stream",
     "text": [
      "[[1.         0.06904849 0.16997518]\n",
      " [0.06904849 1.         0.06904849]\n",
      " [0.16997518 0.06904849 1.        ]]\n"
     ]
    }
   ],
   "source": [
    "similitudeMatrix = cosine_similarity(normalized_tf_idf)\n",
    "print(similitudeMatrix)"
   ]
  }
 ],
 "metadata": {
  "kernelspec": {
   "display_name": "Python 3",
   "language": "python",
   "name": "python3"
  },
  "language_info": {
   "codemirror_mode": {
    "name": "ipython",
    "version": 3
   },
   "file_extension": ".py",
   "mimetype": "text/x-python",
   "name": "python",
   "nbconvert_exporter": "python",
   "pygments_lexer": "ipython3",
   "version": "3.11.3"
  }
 },
 "nbformat": 4,
 "nbformat_minor": 2
}
