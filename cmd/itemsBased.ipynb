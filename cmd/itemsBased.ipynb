{
 "cells": [
  {
   "cell_type": "code",
   "execution_count": 132,
   "metadata": {},
   "outputs": [
    {
     "data": {
      "text/plain": [
       "' ratings = np.array([\\n    [0, 1, 0],\\n    [0, 1, 1],\\n    [1, 0, 1]\\n]) '"
      ]
     },
     "execution_count": 132,
     "metadata": {},
     "output_type": "execute_result"
    }
   ],
   "source": [
    "import numpy as np\n",
    "\n",
    "# Generate random ratings data\n",
    "n_users = 10\n",
    "n_items = 5\n",
    "ratings = np.random.randint(0, 2, size=(n_users, n_items))\n",
    "\"\"\" ratings = np.array([\n",
    "    [0, 1, 0],\n",
    "    [0, 1, 1],\n",
    "    [1, 0, 1]\n",
    "]) \"\"\""
   ]
  },
  {
   "cell_type": "code",
   "execution_count": 133,
   "metadata": {},
   "outputs": [],
   "source": [
    "def cosine_similarity(ratings):\n",
    "    # Calculate the similarity between items using cosine similarity\n",
    "    item_similarity = np.dot(ratings.T, ratings)  # Transpose the matrix and compute dot product\n",
    "\n",
    "    # Normalize the item similarity\n",
    "    item_norms = np.linalg.norm(ratings, axis=0)\n",
    "    item_similarity = item_similarity/(item_norms[:,np.newaxis]*item_norms)    \n",
    "    return item_similarity"
   ]
  },
  {
   "cell_type": "code",
   "execution_count": 134,
   "metadata": {},
   "outputs": [],
   "source": [
    "# Create a function to make item recommendations\n",
    "def item_based_recommendation(user_id, ratings, item_similarity, top_n=3):\n",
    "    user_ratings = ratings[user_id]\n",
    "    weighted_ratings = np.dot(user_ratings, item_similarity)\n",
    "    print(\"Weigthed Ratings\")\n",
    "    print(user_ratings)\n",
    "    print(weighted_ratings)\n",
    "    top_item_indices = np.argsort(weighted_ratings)[::-1][:top_n]\n",
    "    return top_item_indices"
   ]
  },
  {
   "cell_type": "code",
   "execution_count": 136,
   "metadata": {},
   "outputs": [
    {
     "name": "stdout",
     "output_type": "stream",
     "text": [
      "Data\n",
      "[[1 1 1 1 1]\n",
      " [1 1 0 1 1]\n",
      " [0 1 0 0 0]\n",
      " [0 0 0 0 1]\n",
      " [0 0 0 0 1]\n",
      " [0 1 1 1 1]\n",
      " [0 0 0 0 1]\n",
      " [0 0 0 0 1]\n",
      " [1 1 0 1 1]\n",
      " [1 0 0 0 0]]\n",
      "Similarity\n",
      "[[1.         0.67082039 0.35355339 0.75       0.53033009]\n",
      " [0.67082039 1.         0.63245553 0.89442719 0.63245553]\n",
      " [0.35355339 0.63245553 1.         0.70710678 0.5       ]\n",
      " [0.75       0.89442719 0.70710678 1.         0.70710678]\n",
      " [0.53033009 0.63245553 0.5        0.70710678 1.        ]]\n",
      "Weigthed Ratings\n",
      "[0 0 0 0 1]\n",
      "[0.53033009 0.63245553 0.5        0.70710678 1.        ]\n",
      "Recommended items for user 7: [4 3 1]\n"
     ]
    }
   ],
   "source": [
    "# Example: Recommend items for user 0\n",
    "user_id = np.random.randint(0, ratings.shape[0])\n",
    "#user_id = 2\n",
    "item_similarity = cosine_similarity(ratings)\n",
    "print(\"Data\")\n",
    "print(ratings)\n",
    "print(\"Similarity\")\n",
    "print(item_similarity)\n",
    "recommended_items = item_based_recommendation(user_id, ratings, item_similarity, top_n=3)\n",
    "print(f\"Recommended items for user {user_id}: {recommended_items}\")"
   ]
  }
 ],
 "metadata": {
  "kernelspec": {
   "display_name": "Python 3",
   "language": "python",
   "name": "python3"
  },
  "language_info": {
   "codemirror_mode": {
    "name": "ipython",
    "version": 3
   },
   "file_extension": ".py",
   "mimetype": "text/x-python",
   "name": "python",
   "nbconvert_exporter": "python",
   "pygments_lexer": "ipython3",
   "version": "3.11.3"
  }
 },
 "nbformat": 4,
 "nbformat_minor": 2
}
